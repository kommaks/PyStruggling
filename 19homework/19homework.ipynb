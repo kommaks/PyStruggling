{
  "metadata": {
    "language_info": {
      "codemirror_mode": {
        "name": "python",
        "version": 3
      },
      "file_extension": ".py",
      "mimetype": "text/x-python",
      "name": "python",
      "nbconvert_exporter": "python",
      "pygments_lexer": "ipython3",
      "version": "3.8"
    },
    "kernelspec": {
      "name": "python",
      "display_name": "Pyolite",
      "language": "python"
    }
  },
  "nbformat_minor": 4,
  "nbformat": 4,
  "cells": [
    {
      "cell_type": "markdown",
      "source": "1_Fight\n",
      "metadata": {}
    },
    {
      "cell_type": "code",
      "source": "class warrior:\n\n    def __init__(self, name):\n        self.name = name\n        self.health = 100",
      "metadata": {
        "trusted": true
      },
      "execution_count": 9,
      "outputs": []
    },
    {
      "cell_type": "code",
      "source": "import random\n\n\nplayer_1 = warrior('Kusma')\nplayer_2 = warrior('Erema')\n\nwhile player_1.health > 0 & player_2.health > 0:\n    x = random.randint(0, 1)\n    if x == 1:\n        player_1.health -= 20\n    else:\n        player_2.health -= 20\n\nif player_1.health > 0:\n    print(player_1.name)\nelse:\n    print(player_2.name)",
      "metadata": {
        "trusted": true
      },
      "execution_count": 10,
      "outputs": [
        {
          "name": "stdout",
          "text": "Kusma\n",
          "output_type": "stream"
        }
      ]
    },
    {
      "cell_type": "markdown",
      "source": "2_Students",
      "metadata": {}
    },
    {
      "cell_type": "code",
      "source": "class Student:\n    def __init__(self, name, surname, group_num, mark):\n        self.data = [name, surname, group_num, mark]\n\nimport random\nimport string\n\nstudents = []\nfor i in range(10):\n    name = 'Iamstudent'.join(random.choice(string.ascii_lowercase) for _ in range(2))\n    surname = ''.join(random.choice(string.ascii_lowercase) for _ in range(8)) + 'ov'\n    group = random.randint(100, 299)\n    mark = round(random.uniform(4.0, 5.0), 2)\n    students.append(Student(name, surname, group, mark).data)\nstudents = sorted(students, key = lambda x: x[3])\nfor every in students: print(every) ",
      "metadata": {
        "trusted": true
      },
      "execution_count": 18,
      "outputs": [
        {
          "name": "stdout",
          "text": "['sIamstudente', 'nnjtjjqdov', 235, 4.02]\n['vIamstudentw', 'qpejtsuiov', 220, 4.02]\n['sIamstudenth', 'pggwsdhkov', 162, 4.2]\n['gIamstudentn', 'zdwiifzfov', 187, 4.3]\n['aIamstudenta', 'rzsdbzexov', 105, 4.34]\n['tIamstudentr', 'feugcyqeov', 161, 4.43]\n['mIamstudentz', 'xifasdnwov', 195, 4.52]\n['vIamstudents', 'goixrafyov', 121, 4.53]\n['xIamstudente', 'yzbheqyvov', 203, 4.78]\n['kIamstudentt', 'dfulxdoyov', 165, 4.98]\n",
          "output_type": "stream"
        }
      ]
    },
    {
      "cell_type": "markdown",
      "source": "3_Circle, Round or Ring",
      "metadata": {}
    },
    {
      "cell_type": "code",
      "source": "import math\nclass Circle:\n\n    def __init__(self, x=0, y=0, r=1):\n        self.x = x\n        self.y = y\n        self.r = r\n\n    def square(self):\n        s = math.pi * self.r ** 2\n        return round(s, 2)\n\n    def perimetr(self):\n        p = 2 * math.pi * self.r\n        return round(p, 2)\n\n    def increase(self, ratio):\n        self.r *= ratio\n\n    def intersection(self, x2, y2, r2):\n        if (self.x != x2) or (self.y != y2):\n            if (self.x - x2) ** 2 + (self.y - y2) ** 2 > (self.r + r2) ** 2:\n                return 'No, the circles do not intersect'\n            else:\n                return 'Yep, they do intersect'\n        else:\n            if self.r != r2:\n                return 'No, the circles do not intersect'\n            else:\n                return 'The circles coincide'\n            \nx1, y1, r1 = map(int, input('Enter coordinates х, у and radius of the first circle, separated by space '))\nprint(x1, y1, r1, sep=',')\nC1 = Circle(x1, y1, r1)\nprint('Perimeter of the circle:', C1.perimetr())\nprint('Square of the circle:', C1.square())\nincrcoeff = int(input('Choose how many times you want to enlarge the circle:  '))\nC1.increase(incrcoeff)\nprint(f'Radius after enlarging it {incrcoeff} times :', C1.r)\nx2, y2, r2 = map(int, input('Enter coordinates х, у and radius of the second circle, separated by space '))\nprint(C1.intersection(2, 4, 5))",
      "metadata": {
        "trusted": true
      },
      "execution_count": 37,
      "outputs": [
        {
          "ename": "<class 'TypeError'>",
          "evalue": "int() argument must be a string, a bytes-like object or a real number, not 'Future'",
          "traceback": [
            "\u001b[0;31m---------------------------------------------------------------------------\u001b[0m",
            "\u001b[0;31mTypeError\u001b[0m                                 Traceback (most recent call last)",
            "Input \u001b[0;32mIn [37]\u001b[0m, in \u001b[0;36m<cell line: 32>\u001b[0;34m()\u001b[0m\n\u001b[1;32m     29\u001b[0m             \u001b[38;5;28;01melse\u001b[39;00m:\n\u001b[1;32m     30\u001b[0m                 \u001b[38;5;28;01mreturn\u001b[39;00m \u001b[38;5;124m'\u001b[39m\u001b[38;5;124mThe circles coincide\u001b[39m\u001b[38;5;124m'\u001b[39m\n\u001b[0;32m---> 32\u001b[0m x1, y1, r1 \u001b[38;5;241m=\u001b[39m \u001b[38;5;28mmap\u001b[39m(\u001b[38;5;28mint\u001b[39m, \u001b[38;5;28minput\u001b[39m(\u001b[38;5;124m'\u001b[39m\u001b[38;5;124mEnter coordinates х, у and radius of the first circle, separated by space \u001b[39m\u001b[38;5;124m'\u001b[39m))\n\u001b[1;32m     33\u001b[0m \u001b[38;5;28mprint\u001b[39m(x1, y1, r1, sep\u001b[38;5;241m=\u001b[39m\u001b[38;5;124m'\u001b[39m\u001b[38;5;124m,\u001b[39m\u001b[38;5;124m'\u001b[39m)\n\u001b[1;32m     34\u001b[0m C1 \u001b[38;5;241m=\u001b[39m Circle(x1, y1, r1)\n",
            "\u001b[0;31mTypeError\u001b[0m: int() argument must be a string, a bytes-like object or a real number, not 'Future'"
          ],
          "output_type": "error"
        }
      ]
    },
    {
      "cell_type": "markdown",
      "source": "4_Fathers,Mothers & children",
      "metadata": {}
    },
    {
      "cell_type": "code",
      "source": "class son():\n    def __init__(self, name, age, calm, hunger, father1):\n        self.name = name\n        self.age = age\n        self.is_calm = calm\n        self.is_hunger = hunger\n        if father1.age - self.age < 16: raise ValueError('Введен некорректный возраст')\n\nclass father():\n    def __init__(self, name, age, children):\n        self.name = name\n        self.age = age\n        self.children = children\n                \n    def tell_about_myself(self):\n        return [self.name, self.age, self.children]\n    \n    def calm_down_child(self, son):\n        if son.name in self.children:\n            son.is_calm = True\n            print('Успокоили сына')\n        else: print('Чужой ребенок')\n            \n    def feed_child(self, son):\n        if son.name in self.children:\n            son.is_hunger = False\n            print('Покормили сына')\n        else: print('Чужой ребенок')\nfather1 = father('Oleg', 35, ['Alex', 'Artem'])\nson1 = son('Alex', 15, False, True, father1)\nson2 = son('Peter', 10, True, False, father1)\n\nprint(son1.is_calm)\nprint(son1.is_hunger)\nfather1.feed_child(son1)\nprint(son1.is_hunger)\nfather1.calm_down_child(son1)\nprint(son1.is_calm)",
      "metadata": {
        "trusted": true
      },
      "execution_count": 25,
      "outputs": [
        {
          "name": "stdout",
          "text": "False\nTrue\nПокормили сына\nFalse\nУспокоили сына\nTrue\n",
          "output_type": "stream"
        }
      ]
    },
    {
      "cell_type": "markdown",
      "source": "8_Black Jack or 21",
      "metadata": {}
    },
    {
      "cell_type": "code",
      "source": "class Card:\n\n    def __init__(self, name, value):\n        self.name = name\n        self.value = value\n\n\nclass Player:\n\n    def __init__(self, name):\n        self.name = name\n        self.points = 0\n\n\nclass Black_Jack:\n    summa = 0\n\n    def __init__(self, player_1, player_2):\n        self.player_1 = player_1\n        self.player_2 = player_2\n\n    def move(self, card_1, card_2):\n        if self.summa >= 21:\n            card_from_deck_14.value = 1\n            self.player_1.points += card_1.value\n            self.player_2.points += card_2.value\n            print(self.player_1.points, card_1.name)\n        else:\n            self.player_1.points += card_1.value\n            self.player_2.points += card_2.value\n            self.summa = self.player_1.points + self.player_2.points\n            print(self.player_1.points, card_1.name)\n\n    def win(self):\n        if self.player_1.points == self.player_2.points and self.player_1.points <= 21:\n            print('Ничья.')\n        elif self.player_1.points <= 21 and self.player_2.points > 21:\n            print('Победил ' + self.player_1.name + '.')\n        elif self.player_1.points <= 21 and self.player_2.points <= 21 and self.player_1.points > self.player_2.points:\n            print('Победил ' + self.player_1.name + '.')\n        elif self.player_1.points > 21 and self.player_2.points <= 21:\n            print('Победил ' + self.player_2.name + '.')\n        elif self.player_1.points <= 21 and self.player_2.points <= 21 and self.player_1.points < self.player_2.points:\n            print('Победил ' + self.player_2.name + '.')\n        else:\n            print('Both lost')\n\nimport random\n\n\n\ncard_from_deck_2 = Card('Two', 2)\ncard_from_deck_3 = Card('Three', 3)\ncard_from_deck_4 = Card('Four', 4)\ncard_from_deck_5 = Card('Five', 5)\ncard_from_deck_6 = Card('Six', 6)\ncard_from_deck_7 = Card('Seven', 7)\ncard_from_deck_8 = Card('Eight', 8)\ncard_from_deck_9 = Card('Nine', 9)\ncard_from_deck_10 = Card('Ten', 10)\ncard_from_deck_11 = Card('Jack', 10)\ncard_from_deck_12 = Card('lady', 10)\ncard_from_deck_13 = Card('king', 10)\ncard_from_deck_14 = Card('Ace', 11)\ndeck = [card_from_deck_2, card_from_deck_3, card_from_deck_4, card_from_deck_5,\n        card_from_deck_6, card_from_deck_7, card_from_deck_8, card_from_deck_9,\n        card_from_deck_10, card_from_deck_11, card_from_deck_12, card_from_deck_13, card_from_deck_14]\n\nplayer = Player('Max')\ncomputer = Player('computer')\ngame = Black_Jack(player, computer)\n\nf = 0\nwhile f == 0:\n    x = random.randint(0, 12)\n    y = random.randint(0, 12)\n    s = int(input('Take more - 1, Stop - 0: '))\n    if s == 1:\n        game.move(deck[x], deck[y])\n    if s == 0:\n        f = 1\ngame.win()",
      "metadata": {
        "trusted": true
      },
      "execution_count": 27,
      "outputs": [
        {
          "ename": "<class 'TypeError'>",
          "evalue": "int() argument must be a string, a bytes-like object or a real number, not 'Future'",
          "traceback": [
            "\u001b[0;31m---------------------------------------------------------------------------\u001b[0m",
            "\u001b[0;31mTypeError\u001b[0m                                 Traceback (most recent call last)",
            "Input \u001b[0;32mIn [27]\u001b[0m, in \u001b[0;36m<cell line: 74>\u001b[0;34m()\u001b[0m\n\u001b[1;32m     75\u001b[0m x \u001b[38;5;241m=\u001b[39m random\u001b[38;5;241m.\u001b[39mrandint(\u001b[38;5;241m0\u001b[39m, \u001b[38;5;241m12\u001b[39m)\n\u001b[1;32m     76\u001b[0m y \u001b[38;5;241m=\u001b[39m random\u001b[38;5;241m.\u001b[39mrandint(\u001b[38;5;241m0\u001b[39m, \u001b[38;5;241m12\u001b[39m)\n\u001b[0;32m---> 77\u001b[0m s \u001b[38;5;241m=\u001b[39m \u001b[38;5;28;43mint\u001b[39;49m\u001b[43m(\u001b[49m\u001b[38;5;28;43minput\u001b[39;49m\u001b[43m(\u001b[49m\u001b[38;5;124;43m'\u001b[39;49m\u001b[38;5;124;43mTake more - 1, Stop - 0: \u001b[39;49m\u001b[38;5;124;43m'\u001b[39;49m\u001b[43m)\u001b[49m\u001b[43m)\u001b[49m\n\u001b[1;32m     78\u001b[0m \u001b[38;5;28;01mif\u001b[39;00m s \u001b[38;5;241m==\u001b[39m \u001b[38;5;241m1\u001b[39m:\n\u001b[1;32m     79\u001b[0m     game\u001b[38;5;241m.\u001b[39mmove(deck[x], deck[y])\n",
            "\u001b[0;31mTypeError\u001b[0m: int() argument must be a string, a bytes-like object or a real number, not 'Future'"
          ],
          "output_type": "error"
        },
        {
          "output_type": "stream",
          "name": "stdin",
          "text": "Take more - 1, Stop - 0:  5\n"
        }
      ]
    },
    {
      "cell_type": "code",
      "source": "",
      "metadata": {},
      "execution_count": null,
      "outputs": []
    }
  ]
}