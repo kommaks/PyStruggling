{
  "metadata": {
    "language_info": {
      "codemirror_mode": {
        "name": "python",
        "version": 3
      },
      "file_extension": ".py",
      "mimetype": "text/x-python",
      "name": "python",
      "nbconvert_exporter": "python",
      "pygments_lexer": "ipython3",
      "version": "3.8"
    },
    "kernelspec": {
      "name": "python",
      "display_name": "Pyolite",
      "language": "python"
    }
  },
  "nbformat_minor": 4,
  "nbformat": 4,
  "cells": [
    {
      "cell_type": "markdown",
      "source": "#1_",
      "metadata": {}
    },
    {
      "cell_type": "code",
      "source": "def f(dict_f):\n    lst = []\n    cnt = 0\n    for i in dict_f:\n        lst += (dict_f[i]['interests'])\n        cnt += len(dict_f[i]['surname'])\n    return lst, cnt\n\n\nstudents = {\n    1: {\n        'name': 'Bob',\n        'surname': 'Vazovski',\n        'age': 23,\n        'interests': ['biology, swimming']\n    },\n    2: {\n        'name': 'Rob',\n        'surname': 'Stepanov',\n        'age': 24,\n        'interests': ['math', 'computer games', 'running']\n    },\n    3: {\n        'name': 'Alexander',\n        'surname': 'Krug',\n        'age': 22,\n        'interests': ['languages', 'health food']\n    }\n}\n\nprint(*((i, info['age']) for i, info in students.items()), sep='\\n')\n\nmy_lst = f(students)[0]\nl = f(students)[1]\nprint(my_lst)\nprint(l)\n",
      "metadata": {
        "trusted": true
      },
      "execution_count": 3,
      "outputs": [
        {
          "name": "stdout",
          "text": "(1, 23)\n(2, 24)\n(3, 22)\n['biology, swimming', 'math', 'computer games', 'running', 'languages', 'health food']\n20\n",
          "output_type": "stream"
        }
      ]
    },
    {
      "cell_type": "markdown",
      "source": "#2_",
      "metadata": {}
    },
    {
      "cell_type": "code",
      "source": "def is_prime(n):\n    if n > 1:\n        for i in range(2, int(n/2)+1):\n            if (n % i) == 0:\n                return False\n        else:\n            return True\n    else:\n        return False\ndef prime_list(lst):\n    return [lst[n] for n in range(len(lst)) if is_prime(n)]\n\nl = [0, 1, 2, 3, 4, 5, 6, 7, 8, 9, 10, 11, 12]\nprint(prime_list(l))",
      "metadata": {
        "trusted": true
      },
      "execution_count": 2,
      "outputs": [
        {
          "name": "stdout",
          "text": "[2, 3, 5, 7, 11]\n",
          "output_type": "stream"
        }
      ]
    },
    {
      "cell_type": "code",
      "source": "",
      "metadata": {},
      "execution_count": null,
      "outputs": []
    }
  ]
}